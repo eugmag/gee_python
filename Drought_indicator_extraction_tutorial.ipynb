{
  "nbformat": 4,
  "nbformat_minor": 0,
  "metadata": {
    "colab": {
      "provenance": []
    },
    "kernelspec": {
      "name": "python3",
      "display_name": "Python 3"
    },
    "language_info": {
      "name": "python"
    }
  },
  "cells": [
    {
      "cell_type": "markdown",
      "source": [
        "# Notebook for extracting drought indicators\n",
        "\n",
        "This notebook will extract various drought indicators from remote sensing data using Google Earth Engine (GEE) and visualise them using the geemap python package. \\\\\n",
        " \\\\\n",
        "### Indicators to be calculated:\n",
        "- Vegetation Condition Index (VCI)\n",
        "- Vegetation Health Index (VHI)\n",
        "- Temperature Condition Index (TCI)\n",
        "\n",
        "### Data Sources:\n",
        "- MODIS\n",
        "- Landsat\n",
        "- Sentinel-2\n",
        "\n",
        "MODIS is the best starting point as Normalised Difference Vegetation Index (NDVI) and Land Surface Temperature (LST) already exist, making calculation of the other indicators straightforward. \\\\\n",
        " \\\\\n",
        "Landsat and Sentinel-2 will be used but they do not have NDVI and LST as products and so they will have to be calculated from individual bands within the data collections. \\\\\n",
        " \\\\\n",
        "All the data sources required exist within Google Earth Engine already and so can be imported quickly and easily without the need for downloading any large-scale gridded datasets. \\\\\n",
        " \\\\\n",
        "Important note: Google Earth Engine collates all the code and prepares it when you run each cell. This means that calling a function in a cell will not necessarily run that function, it just \"queues\" the action up. Any necessary code will only be run once an output is required, such as saving a file out, opening an interactive window, or using the \".getInfo()\" command. When running a cell with GEE, there is an initial check to make sure the syntax of the code is correct but it will not check that variables are compatible. This can make bug fixing challenging as the bug is not necessarily from the currently running cell. As an example, imagine you have four cells with the following dummy code, where f() and g() are arbitrary functions:\n",
        "\n",
        "\n",
        "1. b=f(a)\n",
        "2. c=g(b)\n",
        "3. plot(c)\n",
        "\n",
        "In this instance, an error may appear when running cell 3 even though the plotting function should work fine. This error could be a result of the functions f() or g() not working as intended but you will only be informed when outputting it.\n",
        "\n",
        "\n"
      ],
      "metadata": {
        "id": "rQ8n4sA7oYpN"
      }
    },
    {
      "cell_type": "markdown",
      "source": [
        "## Useful resources"
      ],
      "metadata": {
        "id": "_t8_tG9BY_ex"
      }
    },
    {
      "cell_type": "markdown",
      "source": [
        "[GEE Code Editor](https://code.earthengine.google.com/): Built in documentation which can be filtered to find methods of interest. Found under the Docs tab.\n",
        "\n",
        "[Official GEE guides](https://developers.google.com/earth-engine/guides): Outlines GEE functionality but most of the example code is in javascript.\n",
        "\n",
        "[geemap tutorials](https://geemap.org/tutorials/): A full list of tutorials from the geemap developer can be found with links to videos and notebooks.\n",
        "\n",
        "[GEE Courses](https://courses.geemap.org/): The geemap developer has created tutorials for using GEE in python since most of the official documentation uses javascript."
      ],
      "metadata": {
        "id": "3vC9ibSUZCI4"
      }
    },
    {
      "cell_type": "markdown",
      "source": [
        "## Setting up the Environment"
      ],
      "metadata": {
        "id": "QxamhhZt-s8n"
      }
    },
    {
      "cell_type": "markdown",
      "source": [
        "We need to import the desired packages and then connect to GEE \\\\\n",
        " \\\\\n",
        "geemap is not installed in colab by default so this needs to be installed every time we connect to a runtime \\\\\n",
        " \\\\\n",
        "ee is the package for connecting to Google Earth Engine and accessing GEE functionality, geemap is the package for easy interactive Earth Engine visualisations"
      ],
      "metadata": {
        "id": "vC1c7HnILBi5"
      }
    },
    {
      "cell_type": "code",
      "execution_count": null,
      "metadata": {
        "id": "Muh6rxt8oXAS"
      },
      "outputs": [],
      "source": [
        "# first import the required packages\n",
        "!pip install -q geemap\n",
        "\n",
        "import ee\n",
        "import geemap\n",
        "import os"
      ]
    },
    {
      "cell_type": "markdown",
      "source": [
        "In order to connect to Google Earth Engine we need to authorize GEE to connect to the notebook."
      ],
      "metadata": {
        "id": "AbFKWMgNqbFC"
      }
    },
    {
      "cell_type": "code",
      "source": [
        "ee.Authenticate()\n",
        "\n",
        "ee.Initialize(project='ee-eugmag')"
      ],
      "metadata": {
        "id": "IIC6tnHdq0DS",
        "collapsed": true
      },
      "execution_count": null,
      "outputs": []
    },
    {
      "cell_type": "markdown",
      "source": [
        "## Defining Variables"
      ],
      "metadata": {
        "id": "vRKvT2Py-X_8"
      }
    },
    {
      "cell_type": "markdown",
      "source": [
        "We want to define some variables that we will use in various places throughout the script. Having them all in once place means we don't need to search through the document every time we want to change a parameter. \\\\\n",
        " \\\\\n",
        "Examples of variables to use would be start and end years of the data. \\\\\n",
        " \\\\\n",
        "Before calling the data we need to define a region of interest (roi) that we want to focus on. In this case we are using a rectangle that covers the UK (between -8.5 and 2 longitude and between 49 and 61 latitude). We want to crop to this smaller area since we aren't interested in data elsewhere and a smaller dataset allows for faster processing and smaller output files. This region of interest will also be used for producing the animation later."
      ],
      "metadata": {
        "id": "iY1ytzr45rpQ"
      }
    },
    {
      "cell_type": "code",
      "source": [
        "# define start and end year\n",
        "# note that for the current version of the code these need to be complete years\n",
        "#   ie every month in the year needs to have data\n",
        "start_year = 2001\n",
        "end_year = 2022\n",
        "\n",
        "# define region of interest\n",
        "roi = ee.Geometry.Polygon([[[-8.5, 61], [-8.5, 49], [2, 49], [2, 61]]], None,False)"
      ],
      "metadata": {
        "id": "ylSauZfI6aK7"
      },
      "execution_count": null,
      "outputs": []
    },
    {
      "cell_type": "markdown",
      "source": [
        "## Accessing the Data"
      ],
      "metadata": {
        "id": "mfw-px0DrW0E"
      }
    },
    {
      "cell_type": "markdown",
      "source": [
        "Now we are connected to GEE we can begin processing the data. \\\\\n",
        " \\\\\n",
        "GEE makes loading data straightforward as there is a large library of datasets that are built into GEE. \\\\\n",
        " \\\\\n",
        "We can search for the datasets of interest in the [GEE Code Editor](https://code.earthengine.google.com/) \\\\\n",
        " \\\\\n",
        "Finding the datasets here will give us the snippet required to load the collections and the method for loading them in is shown below. Note the use of the \".select(' ')\" statement to pick out the variable of interest from the dataset. The variables can be found under the \"bands\" tab when reading the description of a dataset. \\\\\n",
        " \\\\\n",
        "**An important note on terminology:** \\\\\n",
        "Google Earth Engine makes use of the terms \"image\" and \"image collection\" to refer to data and so when referring to data within the code we will be using these terms. An image is a single time-slice of a gridded dataset and can consist of multiple \"bands\" (these are variables in classic datasets). Image collections are groups of images and, for the purposes of this document, each image will represent a different time step. More information about Earth Engine data structures can be found in the [Get Started section of the GEE Guide](https://developers.google.com/earth-engine/guides/getstarted#earth-engine-data-structures). \\\\\n",
        " \\\\\n",
        "**Back to the code:** \\\\\n",
        "Once the desired variable has been selected we can clip the image collection to the roi defined above. Operations cannot be performed on a whole image collection, only individual images, so we need to map operations to all images in a collection. More information about mapping to over an image collection can be found in the [Mapping section of the GEE Guide](https://developers.google.com/earth-engine/guides/ic_mapping). \\\\\n",
        " \\\\\n",
        "Throughout the document we will make use of lambda functions, particularly when mapping a function across an image collection. Lambda functions work identically to regular functions but are on a single line, are typically only used in a single place, and can't contain conditional statements. Lambda functions have a simple format, for example here are two lambda functions. 1) Doubling the input variable, 2) Multiplying two input variables together:\n",
        "\n",
        "```\n",
        "1) lambda x: x*2\n",
        "2) lambda x,y : x*y\n",
        "```\n",
        "In the code snippet below, the lambda function clips each image to the region of interest and this function is mapped across all the images in the collection. \\\\\n",
        " \\\\\n",
        "Also below, the commented line that makes use of \".getInfo()\" can be used to sense-check the properties of the image collection. This is particularly useful when we want to ensure we are getting the correct number of images as an output.\n"
      ],
      "metadata": {
        "id": "hN1I_jwb7O3R"
      }
    },
    {
      "cell_type": "code",
      "source": [
        "# read in the MODIS NDVI data\n",
        "MODIS_NDVI_raw = ee.ImageCollection(\"MODIS/061/MOD13A2\").select('NDVI')\n",
        "\n",
        "MODIS_NDVI = MODIS_NDVI_raw.map(lambda image: image.clip(roi))\n",
        "\n",
        "#MODIS_NDVI.getInfo()"
      ],
      "metadata": {
        "id": "o5Udxlqjrq3k"
      },
      "execution_count": null,
      "outputs": []
    },
    {
      "cell_type": "markdown",
      "source": [
        "## Formatting the data"
      ],
      "metadata": {
        "id": "z_OujKCT-cnp"
      }
    },
    {
      "cell_type": "markdown",
      "source": [
        "\n",
        "\n",
        "The MODIS data is at 8-day and 16-day timesteps for the LST and NDVI respectively. This means we need to convert the data to be monthly and this can be done with nested functions. \\\\\n",
        " \\\\\n",
        "The function below takes in an image collection as the argument. \\\\\n",
        "Next it defines sequences of months and years that will be used for calculating the monthly averages. \\\\\n",
        "The function ***yearly*** takes in a year as an argument and the function ***monthly*** takes in a month as an argument. \\\\\n",
        "The sequences that we defined earlier are then mapped to these functions. \\\\\n",
        " \\\\\n",
        "***col2monthly*** maps the years to ***yearly*** and returns an image collection from the results. \\\\\n",
        "***yearly*** maps the months to ***monthly*** \\\\\n",
        "***monthly*** applies the filters and takes the mean, returning the resulting image\n"
      ],
      "metadata": {
        "id": "gyphHh07SeJN"
      }
    },
    {
      "cell_type": "code",
      "source": [
        "def col2monthly(col):\n",
        "\n",
        "    # define sequences of months and years\n",
        "    months = ee.List.sequence(1, 12)\n",
        "    years = ee.List.sequence(start_year,end_year)\n",
        "\n",
        "    # function to map years to\n",
        "    def yearly(y):\n",
        "\n",
        "      # function to map months to\n",
        "      def monthly(m):\n",
        "\n",
        "        # filter the image collection to the desired year and month\n",
        "        # take a mean of the filtered images\n",
        "        # set new properties for the month, year, and unique ID\n",
        "        # return this new image\n",
        "        return (col.filter(ee.Filter.calendarRange(y, y, 'year'))\n",
        "                .filter(ee.Filter.calendarRange(m, m, 'month')).mean()\n",
        "                .set('month', m)\n",
        "                .set('year', y)\n",
        "                #.set('ID', ee.Number(m).format('%02d'))\n",
        "                )\n",
        "      # apply the monthly function to all the months for the given year\n",
        "      return months.map(monthly)\n",
        "\n",
        "    # create a collection of images from the output of the monthly function\n",
        "    # the yearly function is applied to all years\n",
        "    col_m = ee.ImageCollection.fromImages(years.map(yearly).flatten())\n",
        "\n",
        "    return col_m"
      ],
      "metadata": {
        "id": "PYz9Yr-nyA1i"
      },
      "execution_count": null,
      "outputs": []
    },
    {
      "cell_type": "markdown",
      "source": [
        "Once the function has been set up we can simply call the function whenever we have an image collection that we wish to convert into a monthly time series. \\\\\n",
        " \\\\\n",
        "In the case of MODIS NDVI we need to apply an additional calculation to the monthly data since the raw MODIS NDVI data has a scale factor. Information about the units and scale factors can be found under the \"bands\" tab of the window that appears when you select a dataset from the search bar in the Earth Engine code editor. \\\\\n",
        " \\\\\n",
        "When performing operations such as multiplications or subtractions, GEE does not assume that properties of the image are still correct since not all operations will preserve properties. We want to maintain our 'month' and 'year' properties though so we have to add an additional segment to copy the properties from the old image to the new one."
      ],
      "metadata": {
        "id": "y189HE_XVq_U"
      }
    },
    {
      "cell_type": "code",
      "source": [
        "# extract monthly image collection from 16-day MODIS NDVI image collection\n",
        "NDVI_Monthly = col2monthly(MODIS_NDVI)\n",
        "\n",
        "# multiply by 0.0001 and copy the image properties\n",
        "NDVI_Monthly = NDVI_Monthly.map(lambda image: image.multiply(0.0001).copyProperties(image, image.propertyNames()))\n",
        "\n",
        "#NDVI_Monthly.getInfo()"
      ],
      "metadata": {
        "id": "KFUoxK1mRmSn"
      },
      "execution_count": null,
      "outputs": []
    },
    {
      "cell_type": "markdown",
      "source": [
        "Scale factors and conversions between units are things to be aware of when processing datasets. In the case of Land Surface Temperature, the value may be in Kelvin and so if we wanted to convert this to celsius we would need to apply the scale factor and then subtract 273.15 from the original value."
      ],
      "metadata": {
        "id": "Qls8VHY-zM8_"
      }
    },
    {
      "cell_type": "markdown",
      "source": [
        "## Calculating VCI"
      ],
      "metadata": {
        "id": "bfFyyWte-f7o"
      }
    },
    {
      "cell_type": "markdown",
      "source": [
        "Now we have a monthly image collection for NDVI which has had the correct scale factors applied, giving us the true values for this variable. \\\\\n",
        " \\\\\n",
        "The next step is to calculate a drought index. \\\\\n",
        " \\\\\n",
        "VCI is derived from NDVI and compares the current value to the long term maxima and minima for the given calendar month: \\\\\n",
        "$$ \\text{VCI} = \\frac{x_{i,j} - \\text{min}(x_{i})}{ \\text{max}(x_{i}) - \\text{min}(x_{i}) } \\times 100$$\n",
        "Where $x$ is NDVI, $i$ is a given calendar month (1-12), and $j$ is a given year (2001-2022). If we want to calculate the NDVI for January 2012 the values are as follows: \\\\\n",
        "- $ x_{i,j} = $ Mean NDVI for January 2012 \\\\\n",
        "- $\\text{min}(x_{i})$ = Minimum NDVI for January of any year \\\\\n",
        "- $\\text{max}(x_{i})$ = Maximum NDVI for January of any year\n",
        "\n",
        "From this we can piece together the additional data required. We have calculated all our $x_{i,j}$ values in the NDVI_Monthly image collection so now we need the max and min values. Thankfully this can be straightforward as we have a function that we can modify to calculate max and min for given calendar months. \\\\\n",
        " \\\\\n",
        "The functions below are very similar to the monthly means function above but they are simplified. In this case we do not need to map both the years and the months, we only need to map the months. This will give us an output image collection with 12 images in, one for each month. The two functions are nearly identical with the only difference being whether it calculates maximum or minimum for the month."
      ],
      "metadata": {
        "id": "ygJDC_WTWtPo"
      }
    },
    {
      "cell_type": "code",
      "source": [
        "def min_monthly(col):\n",
        "\n",
        "    # define sequence of months\n",
        "    months = ee.List.sequence(1, 12)\n",
        "\n",
        "    # function to map months to\n",
        "    def monthly(m):\n",
        "\n",
        "      # filter the image collection to the desired month\n",
        "      # take a min of the filtered images\n",
        "      # set new properties for the month and unique ID\n",
        "      # return this new image\n",
        "      return (col.filter(ee.Filter.calendarRange(m, m, 'month')).min()\n",
        "              .set('month', m)\n",
        "              .set('ID', ee.Number(m).format('%02d'))\n",
        "              )\n",
        "\n",
        "    # create a collection of images from the output of the monthly function\n",
        "    # the monthly function is applied to all months\n",
        "    col_min = ee.ImageCollection.fromImages(months.map(monthly).flatten())\n",
        "\n",
        "    return col_min\n",
        "\n",
        "\n",
        "def max_monthly(col):\n",
        "\n",
        "    # define sequence of months\n",
        "    months = ee.List.sequence(1, 12)\n",
        "\n",
        "    # function to map months to\n",
        "    def monthly(m):\n",
        "\n",
        "      # filter the image collection to the desired month\n",
        "      # take a max of the filtered images\n",
        "      # set new properties for the month and unique ID\n",
        "      # return this new image\n",
        "      return (col.filter(ee.Filter.calendarRange(m, m, 'month')).max()\n",
        "              .set('month', m)\n",
        "              .set('ID', ee.Number(m).format('%02d'))\n",
        "              )\n",
        "\n",
        "    # create a collection of images from the output of the monthly function\n",
        "    # the monthly function is applied to all months\n",
        "    col_max = ee.ImageCollection.fromImages(months.map(monthly).flatten())\n",
        "\n",
        "    return col_max"
      ],
      "metadata": {
        "id": "6mdHitWRcJoJ"
      },
      "execution_count": null,
      "outputs": []
    },
    {
      "cell_type": "markdown",
      "source": [
        "We can now use the above functions to get image collections for the max and min NDVI for each month. Since these functions take in the original MODIS NDVI data we again need to apply the scale factor to the output image collections and preserve the properties of each image."
      ],
      "metadata": {
        "id": "7JCj7-0gdbM6"
      }
    },
    {
      "cell_type": "code",
      "source": [
        "NDVI_mon_min = min_monthly(MODIS_NDVI)\n",
        "NDVI_mon_min = NDVI_mon_min.map(lambda image: image.multiply(0.0001).copyProperties(image, image.propertyNames()))\n",
        "\n",
        "NDVI_mon_max = max_monthly(MODIS_NDVI)\n",
        "NDVI_mon_max = NDVI_mon_max.map(lambda image: image.multiply(0.0001).copyProperties(image, image.propertyNames()))\n",
        "\n",
        "#NDVI_mon_max.getInfo()"
      ],
      "metadata": {
        "id": "p7JHRZmFdsqe"
      },
      "execution_count": null,
      "outputs": []
    },
    {
      "cell_type": "markdown",
      "source": [
        "The next step is to apply the desired calculation to the image collections. This manipulation once again needs to be done through mapping. \\\\\n",
        " \\\\\n",
        "Like the col2monthly function earlier, we can set up a function to work with both the months and the years to produce a new image collection containing the VCI values. In this case the function will take 3 inputs rather than 1.\n",
        "- Monthly mean NDVI\n",
        "- Calendar Month max NDVI\n",
        "- Calendar Month min NDVI"
      ],
      "metadata": {
        "id": "XFYhDIQpf9WR"
      }
    },
    {
      "cell_type": "code",
      "source": [
        "def vci_calc(col, max_vals, min_vals):\n",
        "\n",
        "    # define sequences of months and years\n",
        "    months = ee.List.sequence(1, 12)\n",
        "    years = ee.List.sequence(start_year,end_year)\n",
        "\n",
        "    # function to map years to\n",
        "    def year_map(y):\n",
        "\n",
        "      # function to map months to\n",
        "      def month_map(m):\n",
        "\n",
        "        # filter the image collections to the desired year and month\n",
        "        # the outputs of the filters will be image collections with a single image in each\n",
        "        # apply a mean to each collection to convert to an image (this won't alter the values since the collections only have a single image in)\n",
        "        # select the NDVI band from each of these images and perform the VCI calculation\n",
        "        # set new properties for month and year\n",
        "        # return this new image\n",
        "\n",
        "        x = col.filter(ee.Filter.eq('year',y)).filter(ee.Filter.eq('month',m)).mean()\n",
        "        max_x = max_vals.filter(ee.Filter.eq('month',m)).mean()\n",
        "        min_x = min_vals.filter(ee.Filter.eq('month',m)).mean()\n",
        "\n",
        "        return (  ( x.select('NDVI').subtract(min_x.select('NDVI')) )\n",
        "                .divide( max_x.select('NDVI').subtract(min_x.select('NDVI')) )\n",
        "                .multiply(100)\n",
        "                .set('month', m)\n",
        "                .set('year', y)  )\n",
        "\n",
        "      # apply the filter to all the months for the given year\n",
        "      return months.map(month_map)\n",
        "\n",
        "    # create a collection of images from the output of the monthly function\n",
        "    # the monthly function is applied to all years\n",
        "    col_m = ee.ImageCollection.fromImages(years.map(year_map).flatten())\n",
        "\n",
        "    return col_m"
      ],
      "metadata": {
        "id": "4YmC7hjogeo7"
      },
      "execution_count": null,
      "outputs": []
    },
    {
      "cell_type": "markdown",
      "source": [
        "We can feed our derived NDVI image collections into the above function to generate a time series of VCI values. We can also use the select function to rename the NDVI band to VCI to accurately describe the data in the image collection."
      ],
      "metadata": {
        "id": "jzMjAUQNSLWp"
      }
    },
    {
      "cell_type": "code",
      "source": [
        "vci = vci_calc(NDVI_Monthly, NDVI_mon_max, NDVI_mon_min)\n",
        "\n",
        "vci = vci.select(['NDVI'], ['VCI'])\n",
        "\n",
        "#vci.getInfo()"
      ],
      "metadata": {
        "id": "Mh60zCysioJm"
      },
      "execution_count": null,
      "outputs": []
    },
    {
      "cell_type": "markdown",
      "source": [
        "## Visualising VCI\n"
      ],
      "metadata": {
        "id": "SVcstnem-kP_"
      }
    },
    {
      "cell_type": "markdown",
      "source": [
        "\n",
        "Now we have an image collection containing VCI values. We can put this onto an interactive map to visualise the VCI. In order to do this we need to convert the image collection into a single image which can be done using the '.toBands()' function. This converts each image in a collection to an individual band (or variable) in a single image. By default this would give the bands the names '0_VCI', '1_VCI' etc. so we can once again use the select function to rename these bands. \\\\\n",
        " \\\\\n",
        "The create_band_names() function below simply creates a list of band names with the format 'mm-yyyy_VCI' to give them more meaning for plotting. We can get the original band names with the '.bandNames()' function."
      ],
      "metadata": {
        "id": "rHOSnjvXhlb9"
      }
    },
    {
      "cell_type": "code",
      "source": [
        "# convert image collection to a single image\n",
        "vci_img = vci.toBands()\n",
        "\n",
        "# extract band names from the image\n",
        "original_names = vci_img.bandNames()\n",
        "\n",
        "# define a function to create a list of new band names\n",
        "# the .rjust is there to turn months like January from '1' to '01'\n",
        "def create_band_names():\n",
        "    months = range(1, 13)\n",
        "    years = range(start_year,end_year+1)\n",
        "    names = []\n",
        "    for year in years:\n",
        "        for month in months:\n",
        "            names.append(str(month).rjust(2,'0')+'-'+str(year)+'_VCI')\n",
        "\n",
        "    return(names)\n",
        "\n",
        "# get the list of new band names\n",
        "new_names = create_band_names()\n",
        "\n",
        "# rename the bands in the image\n",
        "vci_img = vci_img.select(original_names, new_names)"
      ],
      "metadata": {
        "id": "hNQX0ITYhiBl"
      },
      "execution_count": null,
      "outputs": []
    },
    {
      "cell_type": "markdown",
      "source": [
        "We can use geemap to create an interactive map window to explore the data in detail. This is done by setting up a basic map and adding the VCI image as a layer. The .addLayer function here takes 3 inputs: \\\\\n",
        "The first is the image we want to add. \\\\\n",
        "The second is a dictionary of visualisation parameters (in this case we don't have any since we will use the interface to change these). \\\\\n",
        "The third is the label we want to give this layer. \\\\\n",
        " \\\\\n",
        "To get the map to look sensible some changes to settings are required and this can be done as follows:\n",
        "- Click the \"toolbar\" button in the top right of the map window\n",
        "- Click the \"layers\" button that has appeared to the left of the \"toolbar\" button\n",
        "- Click the settings button next to VCI (this can take a few seconds to load)\n",
        "- From here we can change what we display. The clearest for this type of image is \"1 band (Grayscale)\"\n",
        "- We can use the drop down box to select which band (timestep) we want to view\n",
        "- The range defaults to 0-100 which is perfect for VCI so doesn't need changing\n",
        "- We can choose whichever colormap we want, RdYlGn is sensible for VCI since this is a red-green scale with red being low VCI and green being high.\n",
        "- Once we are happy we can hit apply, wait a few seconds, and the VCI will be shown on the map\n",
        "\n",
        "Changes can be made to the map properties at any time through this interactive map interface. \\\\\n",
        " \\\\\n",
        "Examples of colormaps can be found in the [MatPlotLib Documentation](https://matplotlib.org/stable/gallery/color/colormap_reference.html)."
      ],
      "metadata": {
        "id": "h2IbmAgJUdm4"
      }
    },
    {
      "cell_type": "code",
      "source": [
        "Map = geemap.Map()\n",
        "Map.addLayer(vci_img, {}, 'VCI')\n",
        "Map"
      ],
      "metadata": {
        "id": "QrqzIRgs8noP"
      },
      "execution_count": null,
      "outputs": []
    },
    {
      "cell_type": "markdown",
      "source": [
        "If we want we can also produce a gif showing the changes in VCI for the UK. By changing the variable y we can select which year to put into the gif which is done using a filter. We also define text to label the gif and these can be changed to any sensible labels we want. \\\\\n",
        " \\\\\n",
        "The fps variable defines the number of frames per second we want for the gif, this is used later to ensure the labelled version runs at the same speed. \\\\\n",
        " \\\\\n",
        "We set up an area of interest (aoi) for the gif (in this case we use the roi defined at the start) and then define some basic video arguments. \\\\\n",
        " \\\\\n",
        "A path for the vci gif is defined, this puts it into a temporary google colab file directory (also known as session storage). All files in this temporary storage can be seen by clicking the files button to the left of the screen underneath the {x} symbol. \\\\\n",
        " \\\\\n",
        "The developer of the geemap package has created a full [video tutorial](https://www.youtube.com/watch?v=fDnDVuM_Ke4) and accompanying [jupyter notebook](https://github.com/giswqs/geemap/blob/master/examples/notebooks/16_add_animated_text.ipynb) for adding animated text to a gif. This tutorial was followed when developing the below code for the generation of an annotated gif showing the evolution of VCI in the UK for a given year."
      ],
      "metadata": {
        "id": "uQZ7_Nt7Xtui"
      }
    },
    {
      "cell_type": "code",
      "source": [
        "# define year to animate\n",
        "y=2022\n",
        "\n",
        "# define text labels for animation\n",
        "text = [str(n).zfill(2) + \"-\" + str(y) for n in range(1, 13)]\n",
        "#text = ['Jan', 'Feb', 'Mar', 'Apr', 'May', 'Jun', 'Jul', 'Aug', 'Sep', 'Oct', 'Nov', 'Dec']\n",
        "\n",
        "# define number of frames per second of video\n",
        "fps = 2\n",
        "\n",
        "\n",
        "# filter the VCI to the desired year\n",
        "video_vci = vci.filter(ee.Filter.eq('year',y))#.filter(ee.Filter.eq('month', 7))\n",
        "\n",
        "# define area of interest for the gif\n",
        "aoi = roi\n",
        "#ee.Geometry.Polygon(\n",
        "#  [[[-8.5, 61], [-8.5, 49], [2, 49], [2, 61]]], None,\n",
        "#  False)\n",
        "\n",
        "# define video arguments\n",
        "videoArgs = {\"dimensions\": 800,\n",
        "             \"region\": aoi,\n",
        "             \"framesPerSecond\": fps,\n",
        "             \"crs\": 'EPSG:3857',\n",
        "             \"min\": 0,\n",
        "             \"max\": 100,\n",
        "             \"palette\": ['red', 'yellow', 'green']}\n",
        "\n",
        "# print statement can be used to quickly view the unlabelled gif\n",
        "#print(video_vci.getVideoThumbURL(videoArgs))\n",
        "\n",
        "# save gif to the session storage\n",
        "saved_gif = os.path.join('vci.gif')\n",
        "geemap.download_ee_video(video_vci, videoArgs, saved_gif)"
      ],
      "metadata": {
        "id": "K2QOKfBP5bW3"
      },
      "execution_count": null,
      "outputs": []
    },
    {
      "cell_type": "markdown",
      "source": [
        "We define a path for the labelled version of the gif, define the duration of each frame based off the fps we set earlier. The gif we just saved gets fed into the '.add_text_to_gif' function and a new gif is saved to the session storage with the desired text labels applied to it. \\\\\n",
        " \\\\\n",
        "If we want to download this gif we can go to the session storage files tab, find the correct file, hover over it, press the three dots that appear, and download it from there. It can also be viewed in colab with geemap.show_image()"
      ],
      "metadata": {
        "id": "DWRYNhMV1vuR"
      }
    },
    {
      "cell_type": "code",
      "source": [
        "out_gif = os.path.join('vci_labelled.gif')\n",
        "\n",
        "# define duration of each frame based on the FPS (1000ms = 1 second)\n",
        "dur = 1000/fps\n",
        "\n",
        "#text = ['July 2022 VCI']\n",
        "\n",
        "# call the function to add text to the gif\n",
        "geemap.add_text_to_gif(\n",
        "    saved_gif,\n",
        "    out_gif,\n",
        "    xy=('3%', '5%'),\n",
        "    text_sequence=text,\n",
        "    font_size=25,\n",
        "    font_color='#ffffff',\n",
        "    duration = dur,\n",
        ")\n",
        "\n",
        "\n",
        "width = 250\n",
        "height = 30\n",
        "palette = ['red', 'yellow', 'green']\n",
        "labels = [0, 100]\n",
        "colorbar = geemap.create_colorbar(\n",
        "    width=width,\n",
        "    height=height,\n",
        "    palette=palette,\n",
        "    vertical=False,\n",
        "    add_labels=True,\n",
        "    font_size=22,\n",
        "    labels=labels,\n",
        "    font_color='white'\n",
        ")\n",
        "\n",
        "geemap.add_image_to_gif(\n",
        "    out_gif, out_gif, in_image=colorbar, xy=('-3%', '9%'), image_size=(200, 200)\n",
        ")\n",
        "\n",
        "# show the labelled gif in colab\n",
        "geemap.show_image(out_gif)"
      ],
      "metadata": {
        "id": "c25myfuNmXQt"
      },
      "execution_count": null,
      "outputs": []
    }
  ]
}